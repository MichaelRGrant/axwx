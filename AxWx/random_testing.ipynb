{
 "cells": [
  {
   "cell_type": "code",
   "execution_count": 3,
   "metadata": {
    "collapsed": false
   },
   "outputs": [],
   "source": [
    "from IPython.core.interactiveshell import InteractiveShell\n",
    "InteractiveShell.ast_node_interactivity = \"all\"\n",
    "import matplotlib.pyplot as plt"
   ]
  },
  {
   "cell_type": "markdown",
   "metadata": {},
   "source": [
    "# SCRAPE OBSERVATION DATA"
   ]
  },
  {
   "cell_type": "code",
   "execution_count": 4,
   "metadata": {
    "collapsed": false
   },
   "outputs": [],
   "source": [
    "import csv\n",
    "import time\n",
    "\n",
    "from bs4 import BeautifulSoup\n",
    "import numpy as np\n",
    "import pandas as pd\n",
    "import pickle\n",
    "import requests\n",
    "\n",
    "\n",
    "def scrape_data_one_day(station_id, year, month, day):\n",
    "    \"\"\"\n",
    "    Retrieve PWS data for given station and a given day\n",
    "    :param station_id: string\n",
    "        PWS station ID\n",
    "    :param year: int\n",
    "        year\n",
    "    :param month: int\n",
    "        month\n",
    "    :param day: int\n",
    "        day\n",
    "    :return: pandas DataFrame with data for requested day\n",
    "\n",
    "    Sample URL:\n",
    "    https://www.wunderground.com/weatherstation/WXDailyHistory.asp?\n",
    "    ID=KWAEDMON15&day=18&month=4&year=2017&graphspan=day&format=1\n",
    "\n",
    "    \"\"\"\n",
    "\n",
    "    url = \"https://www.wunderground.com/\" \\\n",
    "          \"weatherstation/WXDailyHistory.asp?ID=\" \\\n",
    "          + station_id + \"&day=\" \\\n",
    "          + str(day) + \"&month=\" \\\n",
    "          + str(month) + \"&year=\" \\\n",
    "          + str(year) \\\n",
    "          + \"&graphspan=day&format=1\"\n",
    "\n",
    "    content = requests.get(url).text\n",
    "    content = content.replace(\"\\n\", \"\")\n",
    "    content = content.replace(\"<br>\", \"\\n\")\n",
    "    content = content.replace(\",\\n\", \"\\n\")\n",
    "\n",
    "    data_csv_lines = csv.reader(content.split('\\n'), delimiter=',')\n",
    "    data_list = list(data_csv_lines)\n",
    "    data_df = pd.DataFrame.from_records(data_list[1:-1], columns=data_list[0])\n",
    "\n",
    "    return data_df\n",
    "\n",
    "\n",
    "def scrape_data_multi_day(station_id, start_date, end_date,\n",
    "                          delay=3, combined_df=None):\n",
    "    \"\"\"\n",
    "    Retrieve PWS data for given station and a given date range\n",
    "    :param station_id: string\n",
    "        PWS station ID\n",
    "    :param startdate: int (yyyymmdd)\n",
    "        start date for data retrieval\n",
    "    :param enddate: int (yyyymmdd)\n",
    "        end date for data retrieval\n",
    "    :param delay: int\n",
    "        delay between requests to WU server (seconds)\n",
    "    :return: pandas DataFrame with combined data for period requested\n",
    "    \"\"\"\n",
    "\n",
    "    if combined_df is None:\n",
    "        combined_df = pd.DataFrame()\n",
    "    else:\n",
    "        pass\n",
    "\n",
    "    # parse out date components\n",
    "    start_date_str = str(start_date)\n",
    "    start_date_yyyy = int(start_date_str[0:4])\n",
    "    start_date_mm = int(start_date_str[4:6])\n",
    "    start_date_dd = int(start_date_str[6:8])\n",
    "    end_date_str = str(end_date)\n",
    "    end_date_yyyy = int(end_date_str[0:4])\n",
    "    end_date_mm = int(end_date_str[4:6])\n",
    "    end_date_dd = int(end_date_str[6:8])\n",
    "\n",
    "    # create date range\n",
    "    start_date_pd = pd.datetime(start_date_yyyy, start_date_mm, start_date_dd)\n",
    "    end_date_pd = pd.datetime(end_date_yyyy, end_date_mm, end_date_dd)\n",
    "    date_list = pd.date_range(start_date_pd, end_date_pd)\n",
    "\n",
    "    for date in date_list:\n",
    "        temp_yyyy = date.year\n",
    "        temp_mm = date.month\n",
    "        temp_dd = date.day\n",
    "        print('retrieving data for ' + station_id + \" on \" +\n",
    "              str(temp_yyyy) + \"-\" + str(temp_mm) + \"-\" + str(temp_dd))\n",
    "        day_df = scrape_data_one_day(station_id=station_id, year=temp_yyyy,\n",
    "                                     month=temp_mm, day=temp_dd)\n",
    "        combined_df = combined_df.append(day_df, ignore_index=True)\n",
    "        time.sleep(delay)\n",
    "\n",
    "    return combined_df"
   ]
  },
  {
   "cell_type": "code",
   "execution_count": 6,
   "metadata": {
    "collapsed": false
   },
   "outputs": [
    {
     "name": "stdout",
     "output_type": "stream",
     "text": [
      "retrieving data for KWASEATT103 on 2016-5-1\n",
      "retrieving data for KWASEATT103 on 2016-5-2\n",
      "retrieving data for KWASEATT103 on 2016-5-3\n",
      "retrieving data for KWASEATT103 on 2016-5-4\n",
      "retrieving data for KWASEATT103 on 2016-5-5\n",
      "retrieving data for KWASEATT103 on 2016-5-6\n",
      "retrieving data for KWASEATT103 on 2016-5-7\n",
      "retrieving data for KWASEATT103 on 2016-5-8\n",
      "retrieving data for KWASEATT103 on 2016-5-9\n",
      "retrieving data for KWASEATT103 on 2016-5-10\n",
      "retrieving data for KWASEATT103 on 2016-5-11\n",
      "retrieving data for KWASEATT103 on 2016-5-12\n",
      "retrieving data for KWASEATT103 on 2016-5-13\n",
      "retrieving data for KWASEATT103 on 2016-5-14\n",
      "retrieving data for KWASEATT103 on 2016-5-15\n",
      "retrieving data for KWASEATT103 on 2016-5-16\n",
      "retrieving data for KWASEATT103 on 2016-5-17\n",
      "retrieving data for KWASEATT103 on 2016-5-18\n",
      "retrieving data for KWASEATT103 on 2016-5-19\n",
      "retrieving data for KWASEATT103 on 2016-5-20\n",
      "retrieving data for KWASEATT103 on 2016-5-21\n",
      "retrieving data for KWASEATT103 on 2016-5-22\n",
      "retrieving data for KWASEATT103 on 2016-5-23\n",
      "retrieving data for KWASEATT103 on 2016-5-24\n",
      "retrieving data for KWASEATT103 on 2016-5-25\n",
      "retrieving data for KWASEATT103 on 2016-5-26\n",
      "retrieving data for KWASEATT103 on 2016-5-27\n",
      "retrieving data for KWASEATT103 on 2016-5-28\n",
      "retrieving data for KWASEATT103 on 2016-5-29\n",
      "retrieving data for KWASEATT103 on 2016-5-30\n"
     ]
    }
   ],
   "source": [
    "combined_df = scrape_data_multi_day(\"KWASEATT103\",20160501,20160530, delay=1)"
   ]
  },
  {
   "cell_type": "code",
   "execution_count": 7,
   "metadata": {
    "collapsed": false
   },
   "outputs": [
    {
     "data": {
      "text/plain": [
       "(2729, 15)"
      ]
     },
     "execution_count": 7,
     "metadata": {},
     "output_type": "execute_result"
    }
   ],
   "source": [
    "combined_df.shape"
   ]
  },
  {
   "cell_type": "code",
   "execution_count": 14,
   "metadata": {
    "collapsed": false
   },
   "outputs": [
    {
     "data": {
      "text/plain": [
       "'0.00'"
      ]
     },
     "execution_count": 14,
     "metadata": {},
     "output_type": "execute_result"
    }
   ],
   "source": [
    "combined_df.dailyrainin[0]"
   ]
  },
  {
   "cell_type": "code",
   "execution_count": 28,
   "metadata": {
    "collapsed": false
   },
   "outputs": [],
   "source": [
    "os.chdir(\"/Users/Thompson/Desktop/DATA 515/Final Project/data/local/wu_station_data\")\n",
    "os.getcwd()"
   ]
  },
  {
   "cell_type": "code",
   "execution_count": 19,
   "metadata": {
    "collapsed": false
   },
   "outputs": [
    {
     "ename": "FileNotFoundError",
     "evalue": "[Errno 2] No such file or directory: 'data/local/wu_station_data/KWASEATT103.p'",
     "output_type": "error",
     "traceback": [
      "\u001b[0;31m---------------------------------------------------------------------------\u001b[0m",
      "\u001b[0;31mFileNotFoundError\u001b[0m                         Traceback (most recent call last)",
      "\u001b[0;32m<ipython-input-19-2d6496e48297>\u001b[0m in \u001b[0;36m<module>\u001b[0;34m()\u001b[0m\n\u001b[0;32m----> 1\u001b[0;31m \u001b[0mpickle\u001b[0m\u001b[0;34m.\u001b[0m\u001b[0mdump\u001b[0m\u001b[0;34m(\u001b[0m\u001b[0mcombined_df\u001b[0m\u001b[0;34m,\u001b[0m \u001b[0mopen\u001b[0m\u001b[0;34m(\u001b[0m\u001b[0;34m\"data/local/wu_station_data/KWASEATT103.p\"\u001b[0m\u001b[0;34m,\u001b[0m \u001b[0;34m\"wb\"\u001b[0m\u001b[0;34m)\u001b[0m\u001b[0;34m)\u001b[0m\u001b[0;34m\u001b[0m\u001b[0m\n\u001b[0m",
      "\u001b[0;31mFileNotFoundError\u001b[0m: [Errno 2] No such file or directory: 'data/local/wu_station_data/KWASEATT103.p'"
     ]
    }
   ],
   "source": [
    "pickle.dump(combined_df, open(\"KWASEATT103.p\", \"wb\"))"
   ]
  },
  {
   "cell_type": "code",
   "execution_count": 35,
   "metadata": {
    "collapsed": true
   },
   "outputs": [],
   "source": [
    "KWASEATT103 = pickle.load( open( \"KWASEATT103.p\", \"rb\" ) )"
   ]
  },
  {
   "cell_type": "code",
   "execution_count": 49,
   "metadata": {
    "collapsed": true
   },
   "outputs": [],
   "source": [
    "def wu_scrape_multiple_stations_and_days(station_ids, start_date, end_date, data_dir, delay=1):\n",
    "    orig_dir = os.getcwd()\n",
    "    os.chdir(data_dir)\n",
    "    for station in station_ids:\n",
    "        df = scrape_data_multi_day(station, start_date, end_date, delay)\n",
    "        filename = station + \".p\"\n",
    "        pickle.dump(df, open(filename, \"wb\"))\n",
    "    os.chdir(orig_dir)"
   ]
  },
  {
   "cell_type": "code",
   "execution_count": 50,
   "metadata": {
    "collapsed": false
   },
   "outputs": [
    {
     "name": "stdout",
     "output_type": "stream",
     "text": [
      "retrieving data for KWASEATT134 on 2016-5-1\n",
      "retrieving data for KWASEATT134 on 2016-5-2\n",
      "retrieving data for KWASEATT134 on 2016-5-3\n",
      "retrieving data for KWASEATT1624 on 2016-5-1\n",
      "retrieving data for KWASEATT1624 on 2016-5-2\n",
      "retrieving data for KWASEATT1624 on 2016-5-3\n"
     ]
    }
   ],
   "source": [
    "station_ids = ['KWASEATT134','KWASEATT1624']\n",
    "data_dir = \"/Users/Thompson/Desktop/DATA 515/Final Project/data/local/wu_station_data\"\n",
    "scrape_data_multiple_stations_and_days(station_ids, 20160501, 20160503, data_dir)"
   ]
  },
  {
   "cell_type": "code",
   "execution_count": 58,
   "metadata": {
    "collapsed": false
   },
   "outputs": [],
   "source": [
    "KWASEATT134 = pickle.load(open(\"KWASEATT134.p\", \"rb\"))\n",
    "KWASEATT166 = pickle.load(open(\"KWASEATT166.p\", \"rb\"))"
   ]
  },
  {
   "cell_type": "code",
   "execution_count": 31,
   "metadata": {
    "collapsed": false
   },
   "outputs": [
    {
     "data": {
      "text/plain": [
       "'KWASEATT103.p'"
      ]
     },
     "execution_count": 31,
     "metadata": {},
     "output_type": "execute_result"
    }
   ],
   "source": [
    "station_id = \"KWASEATT103\"\n",
    "filename = station_id + \".p\"\n",
    "filename"
   ]
  },
  {
   "cell_type": "code",
   "execution_count": null,
   "metadata": {
    "collapsed": true
   },
   "outputs": [],
   "source": []
  },
  {
   "cell_type": "code",
   "execution_count": null,
   "metadata": {
    "collapsed": true
   },
   "outputs": [],
   "source": []
  },
  {
   "cell_type": "code",
   "execution_count": 18,
   "metadata": {
    "collapsed": false
   },
   "outputs": [
    {
     "data": {
      "image/png": "[encoded data removed]",
      "text/plain": [
       "<matplotlib.figure.Figure at 0x11b8d9470>"
      ]
     },
     "metadata": {},
     "output_type": "display_data"
    },
    {
     "data": {
      "image/png": "[encoded data removed]",
      "text/plain": [
       "<matplotlib.figure.Figure at 0x11b7fd048>"
      ]
     },
     "metadata": {},
     "output_type": "display_data"
    },
    {
     "data": {
      "image/png": "[encoded data removed]",
      "text/plain": [
       "<matplotlib.figure.Figure at 0x11b6d48d0>"
      ]
     },
     "metadata": {},
     "output_type": "display_data"
    },
    {
     "data": {
      "image/png": "[encoded data removed]",
      "text/plain": [
       "<matplotlib.figure.Figure at 0x11bb83a58>"
      ]
     },
     "metadata": {},
     "output_type": "display_data"
    }
   ],
   "source": [
    "plt.plot(combined_df['TemperatureF']);\n",
    "plt.plot(combined_df['DewpointF']); plt.show();\n",
    "plt.plot(combined_df['PressureIn']); plt.show();\n",
    "plt.plot(combined_df['HourlyPrecipIn']); plt.show();\n",
    "plt.plot(combined_df['dailyrainin']); plt.show();"
   ]
  },
  {
   "cell_type": "code",
   "execution_count": 16,
   "metadata": {
    "collapsed": false
   },
   "outputs": [],
   "source": [
    "station_info = scrape_station_info(\"WA\")"
   ]
  },
  {
   "cell_type": "code",
   "execution_count": 24,
   "metadata": {
    "collapsed": false
   },
   "outputs": [
    {
     "data": {
      "text/plain": [
       "array(['KWAVENER2', 'KWAMARYS7', 'KWAWALLA2', ..., 'MC9363', 'MCMOW1',\n",
       "       'MTZILL'], \n",
       "      dtype='<U66')"
      ]
     },
     "execution_count": 24,
     "metadata": {},
     "output_type": "execute_result"
    }
   ],
   "source": [
    "station_info[1:,0]"
   ]
  },
  {
   "cell_type": "code",
   "execution_count": null,
   "metadata": {
    "collapsed": true
   },
   "outputs": [],
   "source": []
  },
  {
   "cell_type": "code",
   "execution_count": null,
   "metadata": {
    "collapsed": true
   },
   "outputs": [],
   "source": []
  },
  {
   "cell_type": "markdown",
   "metadata": {},
   "source": [
    "# SCRAPE STATION INFO"
   ]
  },
  {
   "cell_type": "code",
   "execution_count": null,
   "metadata": {
    "collapsed": true
   },
   "outputs": [],
   "source": [
    "def scrape_station_info(state=\"WA\"):\n",
    "\n",
    "    \"\"\"\n",
    "    A script to scrape the station information published at the following URL:\n",
    "    https://www.wunderground.com/weatherstation/ListStations.asp?\n",
    "    selectedState=WA&selectedCountry=United+States&MR=1\n",
    "    :param state: US State by which to subset WU Station table\n",
    "    :return: numpy array with station info\n",
    "    \"\"\"\n",
    "    url = \"https://www.wunderground.com/\" \\\n",
    "          \"weatherstation/ListStations.asp?selectedState=\" \\\n",
    "          + state + \"&selectedCountry=United+States&MR=1\"\n",
    "    raw_site_content = requests.get(url).content\n",
    "    soup = BeautifulSoup(raw_site_content, 'html.parser')\n",
    "\n",
    "    list_stations_info = soup.find_all(\"tr\")\n",
    "\n",
    "    all_station_info = np.array(['id', 'neighborhood', 'city', 'type'])\n",
    "\n",
    "    for i in range(1, len(list_stations_info)):  # start at 1 to omit headers\n",
    "\n",
    "        station_info = str(list_stations_info[i]).splitlines()\n",
    "\n",
    "        # pull out station info\n",
    "        station_id = station_info[1].split('ID=')[1].split('\"')[0]\n",
    "        station_neighborhood = station_info[2].split('<td>')[1]\n",
    "        station_neighborhood = station_neighborhood.split('\\xa0')[0]\n",
    "        station_city = station_info[3].split('<td>')[1].split('\\xa0')[0]\n",
    "        station_type = station_info[4].split('station-type\">')[1]\n",
    "        station_type = station_type.split('\\xa0')[0]\n",
    "\n",
    "        station_id = station_id.strip()\n",
    "        station_neighborhood = station_neighborhood.strip()\n",
    "        station_city = station_city.strip()\n",
    "        station_type = station_type.strip()\n",
    "\n",
    "        all_station_info = np.vstack([all_station_info,\n",
    "                                      [station_id, station_neighborhood,\n",
    "                                       station_city, station_type]])\n",
    "\n",
    "    return all_station_info"
   ]
  },
  {
   "cell_type": "code",
   "execution_count": null,
   "metadata": {
    "collapsed": false
   },
   "outputs": [],
   "source": [
    "all_info = scrape_station_info()"
   ]
  },
  {
   "cell_type": "code",
   "execution_count": null,
   "metadata": {
    "collapsed": false
   },
   "outputs": [],
   "source": [
    "all_info[all_info[:,0]==\"KWAEDMON15\"]"
   ]
  },
  {
   "cell_type": "code",
   "execution_count": null,
   "metadata": {
    "collapsed": true
   },
   "outputs": [],
   "source": []
  },
  {
   "cell_type": "code",
   "execution_count": null,
   "metadata": {
    "collapsed": true
   },
   "outputs": [],
   "source": []
  },
  {
   "cell_type": "code",
   "execution_count": null,
   "metadata": {
    "collapsed": true
   },
   "outputs": [],
   "source": []
  },
  {
   "cell_type": "markdown",
   "metadata": {},
   "source": [
    "### requests"
   ]
  },
  {
   "cell_type": "code",
   "execution_count": null,
   "metadata": {
    "collapsed": true
   },
   "outputs": [],
   "source": [
    "import numpy as np\n",
    "import pandas as pd\n",
    "import requests\n",
    "from bs4 import BeautifulSoup\n",
    "\n",
    "url = \"https://www.wunderground.com/weatherstation/ListStations.asp?selectedState=WA&selectedCountry=United+States&MR=1\"\n",
    "\n",
    "raw_site_content = requests.get(url).content\n",
    "soup = BeautifulSoup(raw_site_content, 'html.parser')"
   ]
  },
  {
   "cell_type": "code",
   "execution_count": null,
   "metadata": {
    "collapsed": false
   },
   "outputs": [],
   "source": [
    "list_stations_info = soup.find_all(\"tr\")  # one text element in list for each station\n",
    "\n",
    "all_stations = np.array(['id','neighborhood','city','type'])\n",
    "\n",
    "for i in range(1, len(list_stations_info)):  # start at 1 to omit first element (col headers)\n",
    "    \n",
    "    station_info = str(list_stations_info[i]).splitlines()\n",
    "    \n",
    "    # pull out station info\n",
    "    station_id = station_info[1].split('ID=')[1].split('\"')[0].strip()\n",
    "    station_neighborhood = station_info[2].split('<td>')[1].split('\\xa0')[0].strip()\n",
    "    station_city = station_info[3].split('<td>')[1].split('\\xa0')[0].strip()\n",
    "    station_type = station_info[4].split('station-type\">')[1].split('\\xa0')[0].strip()\n",
    "\n",
    "    all_stations = np.vstack([all_stations,[station_id,station_neighborhood,station_city,station_type]])\n"
   ]
  },
  {
   "cell_type": "code",
   "execution_count": null,
   "metadata": {
    "collapsed": true
   },
   "outputs": [],
   "source": []
  },
  {
   "cell_type": "code",
   "execution_count": null,
   "metadata": {
    "collapsed": true
   },
   "outputs": [],
   "source": []
  },
  {
   "cell_type": "code",
   "execution_count": null,
   "metadata": {
    "collapsed": true
   },
   "outputs": [],
   "source": []
  },
  {
   "cell_type": "markdown",
   "metadata": {},
   "source": [
    "### urllib3"
   ]
  },
  {
   "cell_type": "code",
   "execution_count": null,
   "metadata": {
    "collapsed": false
   },
   "outputs": [],
   "source": [
    "import urllib3\n",
    "http = urllib3.PoolManager()\n",
    "raw_site_urllib3 = http.request('GET', url)\n",
    "\n",
    "raw_site_content = raw_site_urllib3.data;"
   ]
  },
  {
   "cell_type": "code",
   "execution_count": null,
   "metadata": {
    "collapsed": true
   },
   "outputs": [],
   "source": []
  },
  {
   "cell_type": "code",
   "execution_count": null,
   "metadata": {
    "collapsed": true
   },
   "outputs": [],
   "source": []
  },
  {
   "cell_type": "code",
   "execution_count": null,
   "metadata": {
    "collapsed": false
   },
   "outputs": [],
   "source": [
    "#for link in soup.find_all('a'):\n",
    "#    print(link.get('href'))"
   ]
  },
  {
   "cell_type": "code",
   "execution_count": null,
   "metadata": {
    "collapsed": false
   },
   "outputs": [],
   "source": []
  },
  {
   "cell_type": "code",
   "execution_count": null,
   "metadata": {
    "collapsed": true
   },
   "outputs": [],
   "source": []
  },
  {
   "cell_type": "code",
   "execution_count": null,
   "metadata": {
    "collapsed": true
   },
   "outputs": [],
   "source": []
  },
  {
   "cell_type": "code",
   "execution_count": null,
   "metadata": {
    "collapsed": true
   },
   "outputs": [],
   "source": []
  },
  {
   "cell_type": "code",
   "execution_count": null,
   "metadata": {
    "collapsed": true
   },
   "outputs": [],
   "source": []
  },
  {
   "cell_type": "code",
   "execution_count": null,
   "metadata": {
    "collapsed": true
   },
   "outputs": [],
   "source": []
  },
  {
   "cell_type": "code",
   "execution_count": null,
   "metadata": {
    "collapsed": true
   },
   "outputs": [],
   "source": []
  },
  {
   "cell_type": "code",
   "execution_count": null,
   "metadata": {
    "collapsed": true
   },
   "outputs": [],
   "source": []
  },
  {
   "cell_type": "markdown",
   "metadata": {},
   "source": [
    "# SCRAPE OBSERVATION DATA"
   ]
  },
  {
   "cell_type": "code",
   "execution_count": null,
   "metadata": {
    "collapsed": true
   },
   "outputs": [],
   "source": [
    "start_date = 20160909\n",
    "end_date = 20160912"
   ]
  },
  {
   "cell_type": "code",
   "execution_count": null,
   "metadata": {
    "collapsed": false
   },
   "outputs": [],
   "source": [
    "import pandas as pd\n",
    "\n",
    "start_date = str(start_date)\n",
    "start_date_yyyy = int(start_date[0:4])\n",
    "start_date_mm = int(start_date[4:6])\n",
    "start_date_dd = int(start_date[6:8])\n",
    "\n",
    "end_date = str(end_date)\n",
    "end_date_yyyy = int(end_date[0:4])\n",
    "end_date_mm = int(end_date[4:6])\n",
    "end_date_dd = int(end_date[6:8])\n",
    "\n",
    "start_date = pd.datetime(start_date_yyyy, start_date_mm, start_date_dd)\n",
    "end_date = pd.datetime(end_date_yyyy, end_date_mm, end_date_dd)\n",
    "\n",
    "date_range = pd.date_range(start_date, end_date)"
   ]
  },
  {
   "cell_type": "code",
   "execution_count": null,
   "metadata": {
    "collapsed": false
   },
   "outputs": [],
   "source": [
    "day = date_range[0]"
   ]
  },
  {
   "cell_type": "code",
   "execution_count": null,
   "metadata": {
    "collapsed": false
   },
   "outputs": [],
   "source": [
    "day.year"
   ]
  },
  {
   "cell_type": "code",
   "execution_count": null,
   "metadata": {
    "collapsed": false
   },
   "outputs": [],
   "source": [
    "import requests\n",
    "import csv\n",
    "import os\n",
    "\n",
    "temp_file_name = 'temp_csv.csv'\n",
    "url = 'https://www.wunderground.com/weatherstation/WXDailyHistory.asp?ID=KWAEDMON15&day=10&month=9&year=2016&graphspan=day&format=1'\n",
    "download = requests.get(url)\n",
    "\n",
    "# with open(temp_file_name, 'w') as temp_file:\n",
    "#     temp_file.writelines(download.text)"
   ]
  },
  {
   "cell_type": "code",
   "execution_count": null,
   "metadata": {
    "collapsed": false
   },
   "outputs": [],
   "source": [
    "temp = download.text\n",
    "type(temp)\n",
    "temp = temp.replace(\"\\n\",\"\")\n",
    "temp = temp.splitlines()\n",
    "temp"
   ]
  },
  {
   "cell_type": "code",
   "execution_count": null,
   "metadata": {
    "collapsed": true
   },
   "outputs": [],
   "source": []
  },
  {
   "cell_type": "code",
   "execution_count": null,
   "metadata": {
    "collapsed": false
   },
   "outputs": [],
   "source": [
    "import urllib3\n",
    "from bs4 import BeautifulSoup as Soup\n",
    "\n",
    "http = urllib3.PoolManager()\n",
    "r = http.request('GET', url)\n",
    "r.data"
   ]
  },
  {
   "cell_type": "code",
   "execution_count": null,
   "metadata": {
    "collapsed": true
   },
   "outputs": [],
   "source": []
  },
  {
   "cell_type": "code",
   "execution_count": null,
   "metadata": {
    "collapsed": true
   },
   "outputs": [],
   "source": []
  },
  {
   "cell_type": "code",
   "execution_count": null,
   "metadata": {
    "collapsed": false
   },
   "outputs": [],
   "source": [
    "temp.replace(\"<br>\",\"\")"
   ]
  },
  {
   "cell_type": "code",
   "execution_count": null,
   "metadata": {
    "collapsed": true
   },
   "outputs": [],
   "source": []
  },
  {
   "cell_type": "code",
   "execution_count": null,
   "metadata": {
    "collapsed": true
   },
   "outputs": [],
   "source": []
  },
  {
   "cell_type": "code",
   "execution_count": null,
   "metadata": {
    "collapsed": false,
    "scrolled": true
   },
   "outputs": [],
   "source": [
    "# temp = download.text.split('<br>')\n",
    "# temp = [ line.strip() for line in temp ]\n",
    "# temp"
   ]
  },
  {
   "cell_type": "code",
   "execution_count": null,
   "metadata": {
    "collapsed": true
   },
   "outputs": [],
   "source": []
  },
  {
   "cell_type": "code",
   "execution_count": null,
   "metadata": {
    "collapsed": true
   },
   "outputs": [],
   "source": []
  },
  {
   "cell_type": "code",
   "execution_count": null,
   "metadata": {
    "collapsed": true
   },
   "outputs": [],
   "source": []
  },
  {
   "cell_type": "code",
   "execution_count": null,
   "metadata": {
    "collapsed": true
   },
   "outputs": [],
   "source": [
    "def scrape_data(station_id=\"KWAEDMON15\", year=2017, month=4, day=18):\n",
    "\n",
    "    test_url = \"https: // www.wunderground.com / weatherstation / WXDailyHistory.asp?\" \\\n",
    "               \"ID = KWAEDMON15 & day = 18 & month = 4 & year = 2017 & graphspan = day & format = 1\"\n",
    "\n",
    "    filename = station_id + \"_\" + str(year) + str(month) + str(day)\n",
    "\n",
    "    print(filename)"
   ]
  },
  {
   "cell_type": "code",
   "execution_count": null,
   "metadata": {
    "collapsed": false
   },
   "outputs": [],
   "source": [
    "scrape_data()"
   ]
  },
  {
   "cell_type": "code",
   "execution_count": null,
   "metadata": {
    "collapsed": true
   },
   "outputs": [],
   "source": [
    "import requests"
   ]
  },
  {
   "cell_type": "code",
   "execution_count": null,
   "metadata": {
    "collapsed": false
   },
   "outputs": [],
   "source": [
    "station_id=\"KWAEDMON15\"\n",
    "year=2017\n",
    "month=4\n",
    "day=18\n",
    "\n",
    "print(\"https://www.wunderground.com/weatherstation/WXDailyHistory.asp?ID={}&day={}&month={}&year={}&graphspan=day&format=1\".format(station_id, day, month, year))"
   ]
  },
  {
   "cell_type": "code",
   "execution_count": null,
   "metadata": {
    "collapsed": false
   },
   "outputs": [],
   "source": [
    "station_id=\"KWAEDMON15\"\n",
    "year=2017\n",
    "month=4\n",
    "day=18\n",
    "\n",
    "url = \"https://www.wunderground.com/weatherstation/WXDailyHistory.asp?ID={}&day={}&month={}&year={}&graphspan=day&format=1\".format(station_id, day, month, year)\n",
    "print(url)"
   ]
  },
  {
   "cell_type": "code",
   "execution_count": null,
   "metadata": {
    "collapsed": true
   },
   "outputs": [],
   "source": []
  }
 ],
 "metadata": {
  "kernelspec": {
   "display_name": "Python 3",
   "language": "python",
   "name": "python3"
  },
  "language_info": {
   "codemirror_mode": {
    "name": "ipython",
    "version": 3
   },
   "file_extension": ".py",
   "mimetype": "text/x-python",
   "name": "python",
   "nbconvert_exporter": "python",
   "pygments_lexer": "ipython3",
   "version": "3.6.0"
  }
 },
 "nbformat": 4,
 "nbformat_minor": 0
}
