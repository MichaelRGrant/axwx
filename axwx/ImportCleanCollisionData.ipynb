{
 "cells": [
  {
   "cell_type": "code",
   "execution_count": 235,
   "metadata": {},
   "outputs": [],
   "source": [
    "import numpy as np\n",
    "import pandas as pd\n",
    "\n",
    "from IPython.core.interactiveshell import InteractiveShell\n",
    "from pyproj import Proj, transform\n",
    "\n",
    "InteractiveShell.ast_node_interactivity = \"all\""
   ]
  },
  {
   "cell_type": "markdown",
   "metadata": {},
   "source": [
    "Lat/Lon Box\n",
    "- North: 47.8\n",
    "- South: 47.4\n",
    "- West: -122.5\n",
    "- East: -122.2\n",
    "\n",
    "\n",
    "- month\n",
    "- day of week\n",
    "- time of day\n",
    "\n",
    "\n",
    "- Fatalities\n",
    "- Weather conditions\n",
    "- DUIs\n",
    "- Cause of accident"
   ]
  },
  {
   "cell_type": "code",
   "execution_count": 236,
   "metadata": {},
   "outputs": [
    {
     "name": "stderr",
     "output_type": "stream",
     "text": [
      "D:\\Program Files\\Anaconda\\lib\\site-packages\\IPython\\core\\interactiveshell.py:2717: DtypeWarning: Columns (23,29,30,31,47,51,58,94,111,112,115,181,207,212) have mixed types. Specify dtype option on import or set low_memory=False.\n",
      "  interactivity=interactivity, compiler=compiler, result=result)\n"
     ]
    },
    {
     "data": {
      "text/plain": [
       "(289671, 217)"
      ]
     },
     "execution_count": 236,
     "metadata": {},
     "output_type": "execute_result"
    }
   ],
   "source": [
    "df = pd.read_csv('~\\Desktop\\WA_Crash_Data.csv', sep=',')\n",
    "df.shape"
   ]
  },
  {
   "cell_type": "code",
   "execution_count": 237,
   "metadata": {},
   "outputs": [
    {
     "data": {
      "text/plain": [
       "(180145, 217)"
      ]
     },
     "execution_count": 237,
     "metadata": {},
     "output_type": "execute_result"
    }
   ],
   "source": [
    "df = df.drop(df[np.isnan(df.Colli_Dtl_Info_State_Plane_X)].index)\n",
    "df = df.drop(df[np.isnan(df.Colli_Dtl_Info_State_Plane_Y)].index)\n",
    "df.shape"
   ]
  },
  {
   "cell_type": "markdown",
   "metadata": {},
   "source": [
    "Function to convert stateplane coordinates to latlons. Run, and subset on coordinate grid."
   ]
  },
  {
   "cell_type": "code",
   "execution_count": 238,
   "metadata": {
    "collapsed": true
   },
   "outputs": [],
   "source": [
    "def convert_stateplane_to_latlon(state_x, state_y, proj_in=2286, proj_out=4326):\n",
    "    inProj = Proj(init='epsg:' + str(proj_in), preserve_units=True)\n",
    "    outProj = Proj(init='epsg:' + str(proj_out))\n",
    "    x2, y2 = transform(inProj, outProj, state_x, state_y)\n",
    "    return y2, x2"
   ]
  },
  {
   "cell_type": "code",
   "execution_count": 239,
   "metadata": {},
   "outputs": [
    {
     "data": {
      "text/plain": [
       "(180145, 217)"
      ]
     },
     "execution_count": 239,
     "metadata": {},
     "output_type": "execute_result"
    }
   ],
   "source": [
    "x, y = np.array(df.Colli_Dtl_Info_State_Plane_X), np.array(df.Colli_Dtl_Info_State_Plane_Y)\n",
    "x_new, y_new = convert_stateplane_to_latlon(x, y)\n",
    "df = df.rename(columns={'Colli_Dtl_Info_State_Plane_X':'lat',\n",
    "                   'Colli_Dtl_Info_State_Plane_Y':'lon'})\n",
    "df['lat'] = pd.DataFrame(x_new)\n",
    "df['lon'] = pd.DataFrame(y_new)\n",
    "df.shape"
   ]
  },
  {
   "cell_type": "code",
   "execution_count": 240,
   "metadata": {},
   "outputs": [
    {
     "data": {
      "text/plain": [
       "(82959, 217)"
      ]
     },
     "execution_count": 240,
     "metadata": {},
     "output_type": "execute_result"
    }
   ],
   "source": [
    "df = df.drop(df[df.lat > 47.8].index)\n",
    "df = df.drop(df[df.lat < 47.4].index)\n",
    "df = df.drop(df[df.lon > -122.2].index)\n",
    "df = df.drop(df[df.lon < -122.5].index)\n",
    "df.shape"
   ]
  },
  {
   "cell_type": "markdown",
   "metadata": {},
   "source": [
    "Prints collision data to csv"
   ]
  },
  {
   "cell_type": "code",
   "execution_count": 195,
   "metadata": {},
   "outputs": [],
   "source": [
    "#df[['lat', 'lon']].to_csv('WSP_Crash_Data.csv', sep=',')"
   ]
  },
  {
   "cell_type": "markdown",
   "metadata": {},
   "source": [
    "Remove columns that have blanks for 50% or more of the observations"
   ]
  },
  {
   "cell_type": "code",
   "execution_count": 242,
   "metadata": {},
   "outputs": [
    {
     "data": {
      "text/plain": [
       "(82959, 55)"
      ]
     },
     "execution_count": 242,
     "metadata": {},
     "output_type": "execute_result"
    }
   ],
   "source": [
    "df_temp = df.loc[:, df.count(axis=0).values >= 0.8*df.shape[0]]\n",
    "df_temp.shape"
   ]
  },
  {
   "cell_type": "code",
   "execution_count": 232,
   "metadata": {},
   "outputs": [],
   "source": [
    "df_temp.to_csv('~\\Desktop\\WA_Crash_Data_out2.csv', sep=',')"
   ]
  },
  {
   "cell_type": "code",
   "execution_count": null,
   "metadata": {
    "collapsed": true
   },
   "outputs": [],
   "source": []
  }
 ],
 "metadata": {
  "anaconda-cloud": {},
  "kernelspec": {
   "display_name": "Python 3",
   "language": "python",
   "name": "python3"
  },
  "language_info": {
   "codemirror_mode": {
    "name": "ipython",
    "version": 3
   },
   "file_extension": ".py",
   "mimetype": "text/x-python",
   "name": "python",
   "nbconvert_exporter": "python",
   "pygments_lexer": "ipython3",
   "version": "3.5.2"
  }
 },
 "nbformat": 4,
 "nbformat_minor": 1
}
