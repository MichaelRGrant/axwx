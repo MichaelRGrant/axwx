{
 "cells": [
  {
   "cell_type": "markdown",
   "metadata": {},
   "source": [
    "# <center>Cleaning WSP Collision Data</center>"
   ]
  },
  {
   "cell_type": "markdown",
   "metadata": {},
   "source": [
    "### Date info\n",
    "Colli_Dtl_Info_Colli_Date\n",
    "- month\n",
    "- day of week\n",
    "- time of day\n",
    "\n",
    "### Restraints\n",
    "MV_Drvr_Restr_Sys_Typ_Cd / MV_Pasngr_Restr_Sys_Typ_Cd\n",
    "- driver restraint used / passenger restraint used\n",
    " - 1 No Restraints Used\n",
    " - 2 Lap Belt Used\n",
    " - 3 Shoulder Belt Used\n",
    " - 4 Lap & Shoulder Used\n",
    " - 5 Child Infant Seat Used\n",
    " - 6 Child Convertable Seat Used\n",
    " - 7 Child Built-in Seat Used\n",
    " - 8 Child Booster Seat Used\n",
    " - 9 Unknown\n",
    "\n",
    "### Roadway surface condition\n",
    "Colli_Dtl_Info_Rdwy_Surfc_Cond_Typ_Cd\n",
    "- 1\tDry\n",
    "- 2\tWet\n",
    "- 3\tSnow/Slush\n",
    "- 4\tIce\n",
    "- 5\tSand/Mud/Dirt\n",
    "- 6\tOil\n",
    "- 7\tStanding Water\n",
    "- 8\tOther\n",
    "- 9\tUnknown\n",
    "\n",
    "### Roadway characterization\n",
    "Colli_Dtl_Info_Rdwy_Char_Typ_Cd\n",
    "- 1\tStraight & Level\n",
    "- 2\tStraight & Grade\n",
    "- 3\tStraight at Hillcrest\n",
    "- 4\tStraight in Sag\n",
    "- 5\tCurve & Level\n",
    "- 6\tCurve & Grade\n",
    "- 7\tCurve at Hillcrest\n",
    "- 8\tCurve in Sag\n",
    "- 9\tUnknown\n",
    "\n",
    "### Weather conditions\n",
    "Colli_Dtl_Info_Wea_Typ_Cd\n",
    "- 0\tUnknown\n",
    "- 1\tClear or Partly Cloudy\n",
    "- 2\tOvercast\n",
    "- 3\tRaining\n",
    "- 4\tSnowing\n",
    "- 5\tFog or Smog or Smoke\n",
    "- 6\tSleet or Hail or Freezing Rain\n",
    "- 7\tSevere Crosswind\n",
    "- 8\tBlowing Sand or Dirt or Snow\n",
    "- 9\tOther\n",
    "\n",
    "### Lighting conditions\n",
    "Colli_Dtl_Info_Litng_Cond_Typ_Cd\n",
    "- 1\tDaylight\n",
    "- 2\tDawn\n",
    "- 3\tDusk\n",
    "- 4\tDark-Street Lights On\n",
    "- 5\tDark-Street Lights Off\n",
    "- 6\tDark-No Street Lights\n",
    "- 7\tOther\n",
    "- 9\tUnknown\n",
    "\n",
    "### Sobriety type\n",
    "MV_Drvr_Sobr_Typ_Cd\n",
    "- 1\tHBD - Ability Impaired\n",
    "- 2\tHBD - Ability Not Impaired\n",
    "- 3\tHBD - Sobriety Unknown\n",
    "- 4\tHad NOT Been Drinking\n",
    "- 5\tHBD - Ability Impaired (tox test)\n",
    "- 6\tHBD - Ability Not Impaired (tox test)\n",
    "- 7\tHad NOT Been Drinking (tox test)\n",
    "- 9\tUnknown\n",
    "\n",
    "### Roadway surface type\n",
    "Colli_Unit_Rdwy_Surfc_Typ_Cd\n",
    "- 1\tConcrete\n",
    "- 2\tBlacktop\n",
    "- 3\tBrick or Wood Block\n",
    "- 4\tGravel\n",
    "- 5\tDirt\n",
    "- 6\tOther*\n",
    "- 9\tUnknown\n",
    "\n",
    "### Posted speed limit\n",
    "Colli_Unit_Postd_Speed\n",
    "\n",
    "### Pedestrian indicator (non-blank)\n",
    "Ped_Colli_Surr_Key\n",
    "\n",
    "### Cyclist indicator (non-blank)\n",
    "Pedcyc_Drvr_Colli_Surr_Key\n",
    "\n",
    "### Injury severity\n",
    "MV_Drvr_Injur_Typ_Cd / MV_Pasngr_Injur_Typ_Cd / Ped_Injur_Typ_Cd / Pedcyc_Drvr_Injur_Typ_Cd\n",
    "- 0\tUnknown\n",
    "- 1\tNo Injury\n",
    "- 2\tDead at Scene\n",
    "- 3\tDead on Arrival\n",
    "- 4\tDied in Hospital\n",
    "- 5\tSerious Injury\n",
    "- 6\tEvident Injury\n",
    "- 7\tPossible Injury\n",
    "- 8 Non-Traffic Injury\n",
    "- 9 Non-Traffic Fatality\n",
    "\n",
    "### Vehicle action\n",
    "MV_Unit_Veh_Actn_Typ_Cd_1\n",
    "- 01\tSkidded attempting to slow or stop for traffic control device\n",
    "- 02\tOut of control (ice, turned to fast, etc.) or sliding (not skidding)\n",
    "- 03\tSkidded attempting to avoid collision with vehicle, person, object, etc.\n",
    "- 05\tAvoiding another vehicle\n",
    "- 06\tAvoiding a pedestrian / pedalcyclist\n",
    "- 07\tAvoiding a large domestic animal (horse, cow, sheep, etc.)\n",
    "- 08\tAvoiding a small domestic animal (dog, cat, etc.)\n",
    "- 09\tAvoiding a non-domestic animal (deer, elk, etc.)\n",
    "- 10\tAvoiding other object in roadway\n",
    "- 11\tAvoiding previous accident\n",
    "- 12\tSlowing for traffic signal or stop sign\n",
    "- 13\tSlowing for pedestrian / pedalcyclist\n",
    "- 14\tSlowing for another vehicle\n",
    "- 15\tSlowing for animal\n",
    "- 16\tSlowing prior to making a turn\n",
    "- 17\tStopped for a hitchhiker\n",
    "- 19\tStopped for flagger or school bus with paddle\n",
    "- 20\tStopped for pedestrian / pedalcyclist\n",
    "- 21\tStopped for another vehicle\n",
    "- 22\tStopped for animal\n",
    "- 23\tStopped for Train or at RR Crossing\n",
    "- 24\tStopped for previous accident\n",
    "- 25\tStopped in line of traffic\n",
    "- 26\tStopped for obstruction in roadway\n",
    "- 27\tStopped prior to turning right\n",
    "- 28\tStopped prior to turning left\n",
    "- 29\tStopped in process of turning\n",
    "- 30\tStopped to load or unload\n",
    "- 32\tParking maneuver - parallel\n",
    "- 33\tParking maneuver (angle, straight, or perpendicular)\n",
    "- 34\tFleeing from lawful pursuit\n",
    "- 35\tIn pursuit\n",
    "- 36\tForced/pushed off road by other vehicle (contact must be made)\n",
    "- 37\tLost control in passing maneuver\n",
    "- 38\tForced/Pushed into Other Lane\n",
    "- 39\tAttempting U-Turn in mid-block\n",
    "- 40\tTurn after stopping at red flashing light or stop sign\n",
    "- 41\tStarted to overtake - struck by overtaken vehicle\n",
    "- 42\tDriverless moving vehicle\n",
    "- 43\tProceeded after stopping for flashing red light or stop sign\n",
    "- 44\tForced/pushed into appurtenance by other vehicle (contact must be made)\n",
    "- 46\tHood flew open\n",
    "- 47\tChain broke, releasing logs\n",
    "- 48\tLost part of load\n",
    "- 49\tShifting load caused injury or damage within vehic\n",
    "- 50\tOverhanging load struck another unit (regardless of unit type)\n",
    "- 51\tObject set into motion by another motor vehicle\n",
    "- 54\tTrailer connection broke\n",
    "- 55\tTrailer or towed vehicle struck towing vehicle\n",
    "- 56\tTow chain, safety chain, or tow bar broke\n",
    "- 57\tTrailer Overturned\n",
    "- 58\tAttached trailer struck another vehicle or object, pedestrian or pedalcyclist\n",
    "- 61\tPushing or had been pushing another vehicle\n",
    "- 63\tTowing, or had been towing, another vehicle\n",
    "- 65\tVehicle stalled or disabled from previous accident in roadway\n",
    "- 66\tVehicle abandoned on roadway prior to collision\n",
    "- 67\tGunshot involved\n",
    "- 68\tvehicle being pushed, or had been pushed by pedest\n",
    "- 69\tPedestrian struck by vehicle from which he had just alighted\n",
    "- 70\tPedestrian struck by bus while entering or exiting it\n",
    "- 71\tPedestrian struck by other vehicle while approaching or leaving bus in loading zone.\n",
    "- 72\tPupil struck by other vehicle on road while ..\n",
    "- 73\tPupil struck by object set in motion by motor vehicle\n",
    "- 74\tPedestrian struck while hitchhiking\n",
    "- 76\tOccupant fell or jumped from motor vehicle\n",
    "- 77\tPassenger interfered with driver\n",
    "- 78\tOccupant of parked or stopped vehicle opened door and door was struck by moving vehicle\n",
    "- 79\tAnimal or insect inside of vehicle interfered with driver\n",
    "- 80\tDust, smoke or smog condition\n",
    "- 82\tRoad washed out\n",
    "- 83\tBridge washed out\n",
    "- 84\tFlowing high water on road\n",
    "- 85\tHazardous materials on road (oil, gas, etc.)\n",
    "- 86\tMud, leaves, gravel, etc. (not normally present on roadway)\n",
    "- 88\tFoot slipped off clutch or brake\n",
    "- 89\tGust of wind\n",
    "- 90\tBlinded by sun\n",
    "- 91\tBlinded by headlights\n",
    "- 92\tView obstructed by other vehicle or object\n",
    "- 93\tFire started after collision\n",
    "- 94\tDrowned after running into water\n",
    "- 96\tStolen Vehicle Invovled\n",
    "- 97\tHit and run\n",
    "- 98\tView obscured by frost, ice, etc. on windshield\n",
    "- 99\tStruck curb, traffic island, or raised barrier before additional impacts\n",
    "- A1\tVolcanic ash (dust) on roadway (no measurable volu\n",
    "- A2\tAccumulation of volcanic ash (dry) on roadway\n",
    "- A3\tAccumulation of volcanic ash (wet) on roadway (volcanic mud\n",
    "- A4\tAccumulation of mixed debris on roadway by volcanic activity\n",
    "- A5\tVolcanic lava on roadway\n",
    "- A6\tFlooded due to volcanic activity\n",
    "- B1\tWinshield obstructed by ash\n",
    "- B2\tvehicle mechanically incapacitated by ash/other\n",
    "- C1\tSight obstructed by volcanic ash in air\n",
    "- C2\tSight obstructed by volcanic ash in eyes\n",
    "- C3\tCoughing or other reflex distraction due to volcanic ash\n",
    "- D1\tDriver inattention due to electrical gadget within vehicle (Cell phone, stereo, etc)\n",
    "- E1\tTwo or more vehicles racing at high speeds or acceleration:  Drag Racing\n",
    "- F1\tLeaves and re-enters roadway/travelway prior to impact\n",
    "\n",
    "### Contributing circumstances\n",
    "MV_Drvr_Ctrb_Circums_Typ_Cd_1 / MV_Drvr_Ctrb_Circums_Typ_Cd_2 / MV_Drvr_Ctrb_Circums_Typ_Cd_3\n",
    "- 01\tUnder Influence of Alcohol\n",
    "- 02\tUnder Influence of Drugs\n",
    "- 03\tExceeding Stated Speed Limit\n",
    "- 04\tExceeding Reas. Safe Speed\n",
    "- 05\tDid Not Grant RW to Vehicle\n",
    "- 06\tImproper Passing\n",
    "- 07\tFollow Too Closely\n",
    "- 08\tOver Center Line\n",
    "- 09\tFailing to Signal\n",
    "- 10\tImproper Turn\n",
    "- 11\tDisregard Stop and Go Light\n",
    "- 12\tDisregard Stop Sign - Flashing Red\n",
    "- 13\tDisregard Yield Sign - Flashing Yellow\n",
    "- 14\tApparently Asleep\n",
    "- 15\tImproper Parking Location\n",
    "- 16\tOperating Defective Equipment\n",
    "- 17\tOther\n",
    "- 18\tNone\n",
    "- 19\tImproper Signal\n",
    "- 20\tImproper U-Turn\n",
    "- 21\tHeadlight Violation\n",
    "- 22\tFail to Yield Row to Pedestrian\n",
    "- 23\tInattention\n",
    "- 24\tImproper Backing\n",
    "- 30\tDisregard Flagger - Officer\n",
    "- 31\tApparently Ill\n",
    "- 32\tApparently Fatigued\n",
    "- 33\tHad Taken Medication\n",
    "- 34\tOn Wrong Side Of Road\n",
    "- 35\tHitchhiking\n",
    "- 36\tFailure to Use Xwalk\n",
    "- 40\tDriver Operating Handheld Telecommunications Device\n",
    "- 41\tDriver Operating Hands-free Wireless Telecommunications Device\n",
    "- 42\tDriver Operating Other Electronic Devices (computers, navigational, etc.)\n",
    "- 43\tDriver Adjusting Audio or Entertainment System\n",
    "- 44\tDriver Smoking\n",
    "- 45\tDriver Eating or Drinking\n",
    "- 46\tDriver Reading or Writing\n",
    "- 47\tDriver Grooming\n",
    "- 48\tDriver Interacting with Passengers, Animals or Objects Inside Vehicle\n",
    "- 49\tOther Driver Distractions Inside Vehicle\n",
    "- 50\tDriver Distractions Outside Vehicle\n",
    "- 51\tUnknown Driver Distraction\n",
    "- 52\tDriver Not Distracted\n",
    "\n",
    "### Alcohol test given\n",
    "MV_Drvr_Alch_Test_Cd\n",
    "- 97\tTest Given - Results Pending\n",
    "- 98\tTest Given - No Results\n",
    "- 99\tTest Refused\n",
    "\n",
    "### Airbag\n",
    "MV_Drvr_Air_Bag_Typ_Cd\n",
    "- 1\tNot Airbag Equipped\n",
    "- 2\tNot Deployed\n",
    "- 3\tFront Airbag Deployed\n",
    "- 4\tSide Airbag Deployed\n",
    "- 5\tOther Airbag Deployed\n",
    "- 6\tCombination of Airbag Deployed\n",
    "- 9\tUnknown"
   ]
  },
  {
   "cell_type": "code",
   "execution_count": null,
   "metadata": {
    "collapsed": true
   },
   "outputs": [],
   "source": [
    "import numpy as np\n",
    "import pandas as pd\n",
    "\n",
    "from IPython.core.interactiveshell import InteractiveShell\n",
    "from pyproj import Proj, transform\n",
    "\n",
    "InteractiveShell.ast_node_interactivity = \"all\""
   ]
  },
  {
   "cell_type": "code",
   "execution_count": 80,
   "metadata": {},
   "outputs": [
    {
     "name": "stderr",
     "output_type": "stream",
     "text": [
      "D:\\Program Files\\Anaconda\\lib\\site-packages\\IPython\\core\\interactiveshell.py:2717: DtypeWarning: Columns (23,29,30,31,47,51,58,94,111,112,115,181,207,212) have mixed types. Specify dtype option on import or set low_memory=False.\n",
      "  interactivity=interactivity, compiler=compiler, result=result)\n"
     ]
    },
    {
     "data": {
      "text/plain": [
       "(289671, 217)"
      ]
     },
     "execution_count": 80,
     "metadata": {},
     "output_type": "execute_result"
    }
   ],
   "source": [
    "df = pd.read_csv('~\\Desktop\\WA_Crash_Data.csv', sep=',')\n",
    "df.shape"
   ]
  },
  {
   "cell_type": "markdown",
   "metadata": {},
   "source": [
    "Drop any collision records with no state plane coordinates"
   ]
  },
  {
   "cell_type": "code",
   "execution_count": 81,
   "metadata": {},
   "outputs": [
    {
     "data": {
      "text/plain": [
       "(180145, 217)"
      ]
     },
     "execution_count": 81,
     "metadata": {},
     "output_type": "execute_result"
    }
   ],
   "source": [
    "df = df.drop(df[np.isnan(df.Colli_Dtl_Info_State_Plane_X)].index)\n",
    "df = df.drop(df[np.isnan(df.Colli_Dtl_Info_State_Plane_Y)].index)\n",
    "df = df.reset_index(drop=True)\n",
    "df.shape"
   ]
  },
  {
   "cell_type": "markdown",
   "metadata": {},
   "source": [
    "Function to convert stateplane coordinates to latlons. Run, and subset on coordinate grid.\n",
    "\n",
    "Lat/Lon Box\n",
    "- North: 47.8\n",
    "- South: 47.4\n",
    "- West: -122.5\n",
    "- East: -122.2"
   ]
  },
  {
   "cell_type": "code",
   "execution_count": 82,
   "metadata": {
    "collapsed": true
   },
   "outputs": [],
   "source": [
    "def convert_stateplane_to_latlon(state_x, state_y, proj_in=2286, proj_out=4326):\n",
    "    inProj = Proj(init='epsg:' + str(proj_in), preserve_units=True)\n",
    "    outProj = Proj(init='epsg:' + str(proj_out))\n",
    "    x2, y2 = transform(inProj, outProj, state_x, state_y)\n",
    "    return y2, x2"
   ]
  },
  {
   "cell_type": "code",
   "execution_count": 83,
   "metadata": {},
   "outputs": [
    {
     "data": {
      "text/plain": [
       "(180145, 217)"
      ]
     },
     "execution_count": 83,
     "metadata": {},
     "output_type": "execute_result"
    }
   ],
   "source": [
    "x, y = np.array(df.Colli_Dtl_Info_State_Plane_X), np.array(df.Colli_Dtl_Info_State_Plane_Y)\n",
    "x_new, y_new = convert_stateplane_to_latlon(x, y)\n",
    "df = df.rename(columns={'Colli_Dtl_Info_State_Plane_X':'lat',\n",
    "                        'Colli_Dtl_Info_State_Plane_Y':'lon'})\n",
    "df['lat'] = pd.DataFrame(x_new)\n",
    "df['lon'] = pd.DataFrame(y_new)\n",
    "df.shape"
   ]
  },
  {
   "cell_type": "code",
   "execution_count": 84,
   "metadata": {},
   "outputs": [
    {
     "data": {
      "text/plain": [
       "(41993, 217)"
      ]
     },
     "execution_count": 84,
     "metadata": {},
     "output_type": "execute_result"
    }
   ],
   "source": [
    "df = df.drop(df[df.lat > 47.8].index)\n",
    "df = df.drop(df[df.lat < 47.4].index)\n",
    "df = df.drop(df[df.lon > -122.2].index)\n",
    "df = df.drop(df[df.lon < -122.5].index)\n",
    "df = df.reset_index(drop=True)\n",
    "df.shape"
   ]
  },
  {
   "cell_type": "markdown",
   "metadata": {},
   "source": [
    "Split date/time and add as separate columns"
   ]
  },
  {
   "cell_type": "code",
   "execution_count": 85,
   "metadata": {},
   "outputs": [
    {
     "data": {
      "text/plain": [
       "(41993, 221)"
      ]
     },
     "execution_count": 85,
     "metadata": {},
     "output_type": "execute_result"
    }
   ],
   "source": [
    "dates = pd.DatetimeIndex(df['Colli_Dtl_Info_Colli_Date'])\n",
    "df['date'] = dates.date\n",
    "df['time_of_day'] = dates.time\n",
    "df['month'] = dates.month\n",
    "df['day_of_week'] = dates.dayofweek\n",
    "df.shape"
   ]
  },
  {
   "cell_type": "markdown",
   "metadata": {},
   "source": [
    "Keep columns of interest"
   ]
  },
  {
   "cell_type": "code",
   "execution_count": 86,
   "metadata": {
    "scrolled": true
   },
   "outputs": [
    {
     "data": {
      "text/plain": [
       "(41993, 27)"
      ]
     },
     "execution_count": 86,
     "metadata": {},
     "output_type": "execute_result"
    }
   ],
   "source": [
    "df = df[['lat',\n",
    "         'lon',\n",
    "         'date',\n",
    "         'time_of_day',\n",
    "         'month',\n",
    "         'day_of_week',\n",
    "         'MV_Drvr_Restr_Sys_Typ_Cd',\n",
    "         'MV_Pasngr_Restr_Sys_Typ_Cd',\n",
    "         'Colli_Dtl_Info_Rdwy_Surfc_Cond_Typ_Cd',\n",
    "         'Colli_Dtl_Info_Rdwy_Char_Typ_Cd',\n",
    "         'Colli_Dtl_Info_Wea_Typ_Cd',\n",
    "         'Colli_Dtl_Info_Litng_Cond_Typ_Cd',\n",
    "         'MV_Drvr_Sobr_Typ_Cd',\n",
    "         'Colli_Unit_Rdwy_Surfc_Typ_Cd',\n",
    "         'Colli_Unit_Postd_Speed',\n",
    "         'Ped_Colli_Surr_Key',\n",
    "         'Pedcyc_Drvr_Colli_Surr_Key',\n",
    "         'MV_Drvr_Injur_Typ_Cd',\n",
    "         'MV_Pasngr_Injur_Typ_Cd',\n",
    "         'Ped_Injur_Typ_Cd',\n",
    "         'Pedcyc_Drvr_Injur_Typ_Cd',\n",
    "         'MV_Unit_Veh_Actn_Typ_Cd_1',\n",
    "         'MV_Drvr_Ctrb_Circums_Typ_Cd_1',\n",
    "         'MV_Drvr_Ctrb_Circums_Typ_Cd_2',\n",
    "         'MV_Drvr_Ctrb_Circums_Typ_Cd_3',\n",
    "         'MV_Drvr_Alch_Test_Cd',\n",
    "         'MV_Drvr_Air_Bag_Typ_Cd']]\n",
    "df.shape"
   ]
  },
  {
   "cell_type": "markdown",
   "metadata": {},
   "source": [
    "Rename columns"
   ]
  },
  {
   "cell_type": "code",
   "execution_count": 87,
   "metadata": {},
   "outputs": [
    {
     "data": {
      "text/plain": [
       "(41993, 27)"
      ]
     },
     "execution_count": 87,
     "metadata": {},
     "output_type": "execute_result"
    }
   ],
   "source": [
    "df = df.rename(columns={'MV_Drvr_Restr_Sys_Typ_Cd':'driver_restraint_type',\n",
    "                        'MV_Pasngr_Restr_Sys_Typ_Cd':'passenger_restraint_type',\n",
    "                        'Colli_Dtl_Info_Rdwy_Surfc_Cond_Typ_Cd':'roadway_surface_condition',\n",
    "                        'Colli_Dtl_Info_Rdwy_Char_Typ_Cd':'roadway_characterization',\n",
    "                        'Colli_Dtl_Info_Wea_Typ_Cd':'current_weather',\n",
    "                        'Colli_Dtl_Info_Litng_Cond_Typ_Cd':'lighting_conditions',\n",
    "                        'MV_Drvr_Sobr_Typ_Cd':'sobriety_type',\n",
    "                        'Colli_Unit_Rdwy_Surfc_Typ_Cd':'roadway_surface_type',\n",
    "                        'Colli_Unit_Postd_Speed':'posted_speed_limit',\n",
    "                        'Ped_Colli_Surr_Key':'pedestrian_present',\n",
    "                        'Pedcyc_Drvr_Colli_Surr_Key':'cyclist_present',\n",
    "                        'MV_Drvr_Injur_Typ_Cd':'driver_injury',\n",
    "                        'MV_Pasngr_Injur_Typ_Cd':'passenger_injury',\n",
    "                        'Ped_Injur_Typ_Cd':'pedestrian_injury',\n",
    "                        'Pedcyc_Drvr_Injur_Typ_Cd':'cyclist_injury',\n",
    "                        'MV_Unit_Veh_Actn_Typ_Cd_1':'vehicle_action',\n",
    "                        'MV_Drvr_Ctrb_Circums_Typ_Cd_1':'contributing_factor_1',\n",
    "                        'MV_Drvr_Ctrb_Circums_Typ_Cd_2':'contributing_factor_2',\n",
    "                        'MV_Drvr_Ctrb_Circums_Typ_Cd_2':'contributing_factor_3',\n",
    "                        'MV_Drvr_Alch_Test_Cd':'alcohol_test_given',\n",
    "                        'MV_Drvr_Air_Bag_Typ_Cd':'airbag'})\n",
    "df.shape"
   ]
  },
  {
   "cell_type": "markdown",
   "metadata": {
    "collapsed": true
   },
   "source": [
    "Prints collision data to csv"
   ]
  },
  {
   "cell_type": "code",
   "execution_count": 88,
   "metadata": {},
   "outputs": [],
   "source": [
    "df.to_csv('C:/Users/drjor/Desktop/WSP_Crash_Data_Cleaned.csv', sep=',')"
   ]
  },
  {
   "cell_type": "code",
   "execution_count": null,
   "metadata": {
    "collapsed": true
   },
   "outputs": [],
   "source": []
  }
 ],
 "metadata": {
  "anaconda-cloud": {},
  "kernelspec": {
   "display_name": "Python 3",
   "language": "python",
   "name": "python3"
  },
  "language_info": {
   "codemirror_mode": {
    "name": "ipython",
    "version": 3
   },
   "file_extension": ".py",
   "mimetype": "text/x-python",
   "name": "python",
   "nbconvert_exporter": "python",
   "pygments_lexer": "ipython3",
   "version": "3.5.2"
  }
 },
 "nbformat": 4,
 "nbformat_minor": 1
}
