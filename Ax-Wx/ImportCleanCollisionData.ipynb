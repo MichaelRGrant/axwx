{
 "cells": [
  {
   "cell_type": "code",
   "execution_count": 13,
   "metadata": {
    "collapsed": false,
    "scrolled": true
   },
   "outputs": [
    {
     "name": "stderr",
     "output_type": "stream",
     "text": [
      "D:\\Program Files\\Anaconda\\lib\\site-packages\\IPython\\core\\interactiveshell.py:2717: DtypeWarning: Columns (23,29,30,31,47,51,56,58,94,109,111,112,115,181,207,212) have mixed types. Specify dtype option on import or set low_memory=False.\n",
      "  interactivity=interactivity, compiler=compiler, result=result)\n"
     ]
    }
   ],
   "source": [
    "import pandas as pd\n",
    "data = pd.read_csv('~\\Desktop\\WA_Crash_Data.csv', sep=',')"
   ]
  },
  {
   "cell_type": "code",
   "execution_count": 14,
   "metadata": {
    "collapsed": false
   },
   "outputs": [
    {
     "data": {
      "text/plain": [
       "(940725, 217)"
      ]
     },
     "execution_count": 14,
     "metadata": {},
     "output_type": "execute_result"
    }
   ],
   "source": [
    "data.shape"
   ]
  },
  {
   "cell_type": "code",
   "execution_count": 17,
   "metadata": {
    "collapsed": false
   },
   "outputs": [
    {
     "data": {
      "text/html": [
       "<div>\n",
       "<table border=\"1\" class=\"dataframe\">\n",
       "  <thead>\n",
       "    <tr style=\"text-align: right;\">\n",
       "      <th></th>\n",
       "      <th>Colli_Rpt_Num_Colli_Rpt_Num</th>\n",
       "      <th>Colli_Rpt_Num_Colli_Surr_Key</th>\n",
       "      <th>Colli_Rpt_Num_Trans_Date_Time</th>\n",
       "      <th>Colli_Rpt_Num_Colli_Rpt_Typ_Surr_Key</th>\n",
       "      <th>Colli_Rpt_Num_Colli_Entry_Date_Time</th>\n",
       "      <th>Colli_Rpt_Num_QA_Typ_Cd</th>\n",
       "      <th>Colli_Rpt_Num_QA_Date_Time</th>\n",
       "      <th>Colli_Rpt_Num_Colli_Rpt_Src_Typ_Cd</th>\n",
       "      <th>Location_Id</th>\n",
       "      <th>Location_Colli_Rpt_Num</th>\n",
       "      <th>...</th>\n",
       "      <th>Pedcyc_Drvr_CitationCharge</th>\n",
       "      <th>Pedcyc_Drvr_DeathAfter30DaysFlag</th>\n",
       "      <th>Pedcyc_Pasngr_Colli_Surr_Key</th>\n",
       "      <th>Pedcyc_Pasngr_Unit_Num</th>\n",
       "      <th>Pedcyc_Pasngr_Age</th>\n",
       "      <th>Pedcyc_Pasngr_Gender_Typ_Cd</th>\n",
       "      <th>Pedcyc_Pasngr_Helmet_Use_Cd</th>\n",
       "      <th>Pedcyc_Pasngr_Injur_Typ_Cd</th>\n",
       "      <th>Pedcyc_Pasngr_Seat_Pos_Typ_Cd</th>\n",
       "      <th>Pedcyc_Pasngr_DeathAfter30DaysFlag</th>\n",
       "    </tr>\n",
       "  </thead>\n",
       "  <tbody>\n",
       "    <tr>\n",
       "      <th>0</th>\n",
       "      <td>E284926</td>\n",
       "      <td>1669246</td>\n",
       "      <td>11/14/2013 4:01:03 PM</td>\n",
       "      <td>1</td>\n",
       "      <td>11/14/2013 4:01:01 PM</td>\n",
       "      <td>4.0</td>\n",
       "      <td>NaN</td>\n",
       "      <td>1</td>\n",
       "      <td>63</td>\n",
       "      <td>E284926</td>\n",
       "      <td>...</td>\n",
       "      <td>NaN</td>\n",
       "      <td>NaN</td>\n",
       "      <td>NaN</td>\n",
       "      <td>NaN</td>\n",
       "      <td>NaN</td>\n",
       "      <td>NaN</td>\n",
       "      <td>NaN</td>\n",
       "      <td>NaN</td>\n",
       "      <td>NaN</td>\n",
       "      <td>NaN</td>\n",
       "    </tr>\n",
       "    <tr>\n",
       "      <th>1</th>\n",
       "      <td>E284926</td>\n",
       "      <td>1669246</td>\n",
       "      <td>11/14/2013 4:01:03 PM</td>\n",
       "      <td>1</td>\n",
       "      <td>11/14/2013 4:01:01 PM</td>\n",
       "      <td>4.0</td>\n",
       "      <td>NaN</td>\n",
       "      <td>1</td>\n",
       "      <td>63</td>\n",
       "      <td>E284926</td>\n",
       "      <td>...</td>\n",
       "      <td>NaN</td>\n",
       "      <td>NaN</td>\n",
       "      <td>NaN</td>\n",
       "      <td>NaN</td>\n",
       "      <td>NaN</td>\n",
       "      <td>NaN</td>\n",
       "      <td>NaN</td>\n",
       "      <td>NaN</td>\n",
       "      <td>NaN</td>\n",
       "      <td>NaN</td>\n",
       "    </tr>\n",
       "    <tr>\n",
       "      <th>2</th>\n",
       "      <td>E284927</td>\n",
       "      <td>1669247</td>\n",
       "      <td>11/14/2013 4:01:33 PM</td>\n",
       "      <td>1</td>\n",
       "      <td>11/14/2013 4:01:32 PM</td>\n",
       "      <td>4.0</td>\n",
       "      <td>NaN</td>\n",
       "      <td>1</td>\n",
       "      <td>64</td>\n",
       "      <td>E284927</td>\n",
       "      <td>...</td>\n",
       "      <td>NaN</td>\n",
       "      <td>NaN</td>\n",
       "      <td>NaN</td>\n",
       "      <td>NaN</td>\n",
       "      <td>NaN</td>\n",
       "      <td>NaN</td>\n",
       "      <td>NaN</td>\n",
       "      <td>NaN</td>\n",
       "      <td>NaN</td>\n",
       "      <td>NaN</td>\n",
       "    </tr>\n",
       "    <tr>\n",
       "      <th>3</th>\n",
       "      <td>E284928</td>\n",
       "      <td>1669248</td>\n",
       "      <td>11/14/2013 4:01:34 PM</td>\n",
       "      <td>2</td>\n",
       "      <td>11/14/2013 4:01:32 PM</td>\n",
       "      <td>4.0</td>\n",
       "      <td>NaN</td>\n",
       "      <td>1</td>\n",
       "      <td>65</td>\n",
       "      <td>E284928</td>\n",
       "      <td>...</td>\n",
       "      <td>NaN</td>\n",
       "      <td>NaN</td>\n",
       "      <td>NaN</td>\n",
       "      <td>NaN</td>\n",
       "      <td>NaN</td>\n",
       "      <td>NaN</td>\n",
       "      <td>NaN</td>\n",
       "      <td>NaN</td>\n",
       "      <td>NaN</td>\n",
       "      <td>NaN</td>\n",
       "    </tr>\n",
       "    <tr>\n",
       "      <th>4</th>\n",
       "      <td>E284929</td>\n",
       "      <td>1669250</td>\n",
       "      <td>11/14/2013 4:01:35 PM</td>\n",
       "      <td>2</td>\n",
       "      <td>11/14/2013 4:01:34 PM</td>\n",
       "      <td>4.0</td>\n",
       "      <td>NaN</td>\n",
       "      <td>1</td>\n",
       "      <td>67</td>\n",
       "      <td>E284929</td>\n",
       "      <td>...</td>\n",
       "      <td>NaN</td>\n",
       "      <td>NaN</td>\n",
       "      <td>NaN</td>\n",
       "      <td>NaN</td>\n",
       "      <td>NaN</td>\n",
       "      <td>NaN</td>\n",
       "      <td>NaN</td>\n",
       "      <td>NaN</td>\n",
       "      <td>NaN</td>\n",
       "      <td>NaN</td>\n",
       "    </tr>\n",
       "  </tbody>\n",
       "</table>\n",
       "<p>5 rows × 217 columns</p>\n",
       "</div>"
      ],
      "text/plain": [
       "  Colli_Rpt_Num_Colli_Rpt_Num  Colli_Rpt_Num_Colli_Surr_Key  \\\n",
       "0                     E284926                       1669246   \n",
       "1                     E284926                       1669246   \n",
       "2                     E284927                       1669247   \n",
       "3                     E284928                       1669248   \n",
       "4                     E284929                       1669250   \n",
       "\n",
       "  Colli_Rpt_Num_Trans_Date_Time  Colli_Rpt_Num_Colli_Rpt_Typ_Surr_Key  \\\n",
       "0         11/14/2013 4:01:03 PM                                     1   \n",
       "1         11/14/2013 4:01:03 PM                                     1   \n",
       "2         11/14/2013 4:01:33 PM                                     1   \n",
       "3         11/14/2013 4:01:34 PM                                     2   \n",
       "4         11/14/2013 4:01:35 PM                                     2   \n",
       "\n",
       "  Colli_Rpt_Num_Colli_Entry_Date_Time  Colli_Rpt_Num_QA_Typ_Cd  \\\n",
       "0               11/14/2013 4:01:01 PM                      4.0   \n",
       "1               11/14/2013 4:01:01 PM                      4.0   \n",
       "2               11/14/2013 4:01:32 PM                      4.0   \n",
       "3               11/14/2013 4:01:32 PM                      4.0   \n",
       "4               11/14/2013 4:01:34 PM                      4.0   \n",
       "\n",
       "   Colli_Rpt_Num_QA_Date_Time  Colli_Rpt_Num_Colli_Rpt_Src_Typ_Cd  \\\n",
       "0                         NaN                                   1   \n",
       "1                         NaN                                   1   \n",
       "2                         NaN                                   1   \n",
       "3                         NaN                                   1   \n",
       "4                         NaN                                   1   \n",
       "\n",
       "   Location_Id Location_Colli_Rpt_Num                 ...                  \\\n",
       "0           63                E284926                 ...                   \n",
       "1           63                E284926                 ...                   \n",
       "2           64                E284927                 ...                   \n",
       "3           65                E284928                 ...                   \n",
       "4           67                E284929                 ...                   \n",
       "\n",
       "  Pedcyc_Drvr_CitationCharge  Pedcyc_Drvr_DeathAfter30DaysFlag  \\\n",
       "0                        NaN                               NaN   \n",
       "1                        NaN                               NaN   \n",
       "2                        NaN                               NaN   \n",
       "3                        NaN                               NaN   \n",
       "4                        NaN                               NaN   \n",
       "\n",
       "  Pedcyc_Pasngr_Colli_Surr_Key  Pedcyc_Pasngr_Unit_Num Pedcyc_Pasngr_Age  \\\n",
       "0                          NaN                     NaN               NaN   \n",
       "1                          NaN                     NaN               NaN   \n",
       "2                          NaN                     NaN               NaN   \n",
       "3                          NaN                     NaN               NaN   \n",
       "4                          NaN                     NaN               NaN   \n",
       "\n",
       "  Pedcyc_Pasngr_Gender_Typ_Cd  Pedcyc_Pasngr_Helmet_Use_Cd  \\\n",
       "0                         NaN                          NaN   \n",
       "1                         NaN                          NaN   \n",
       "2                         NaN                          NaN   \n",
       "3                         NaN                          NaN   \n",
       "4                         NaN                          NaN   \n",
       "\n",
       "  Pedcyc_Pasngr_Injur_Typ_Cd  Pedcyc_Pasngr_Seat_Pos_Typ_Cd  \\\n",
       "0                        NaN                            NaN   \n",
       "1                        NaN                            NaN   \n",
       "2                        NaN                            NaN   \n",
       "3                        NaN                            NaN   \n",
       "4                        NaN                            NaN   \n",
       "\n",
       "   Pedcyc_Pasngr_DeathAfter30DaysFlag  \n",
       "0                                 NaN  \n",
       "1                                 NaN  \n",
       "2                                 NaN  \n",
       "3                                 NaN  \n",
       "4                                 NaN  \n",
       "\n",
       "[5 rows x 217 columns]"
      ]
     },
     "execution_count": 17,
     "metadata": {},
     "output_type": "execute_result"
    }
   ],
   "source": [
    "data.head()"
   ]
  },
  {
   "cell_type": "code",
   "execution_count": 18,
   "metadata": {
    "collapsed": false
   },
   "outputs": [
    {
     "data": {
      "text/plain": [
       "Index(['Colli_Rpt_Num_Colli_Rpt_Num', 'Colli_Rpt_Num_Colli_Surr_Key',\n",
       "       'Colli_Rpt_Num_Trans_Date_Time', 'Colli_Rpt_Num_Colli_Rpt_Typ_Surr_Key',\n",
       "       'Colli_Rpt_Num_Colli_Entry_Date_Time', 'Colli_Rpt_Num_QA_Typ_Cd',\n",
       "       'Colli_Rpt_Num_QA_Date_Time', 'Colli_Rpt_Num_Colli_Rpt_Src_Typ_Cd',\n",
       "       'Location_Id', 'Location_Colli_Rpt_Num',\n",
       "       ...\n",
       "       'Pedcyc_Drvr_CitationCharge', 'Pedcyc_Drvr_DeathAfter30DaysFlag',\n",
       "       'Pedcyc_Pasngr_Colli_Surr_Key', 'Pedcyc_Pasngr_Unit_Num',\n",
       "       'Pedcyc_Pasngr_Age', 'Pedcyc_Pasngr_Gender_Typ_Cd',\n",
       "       'Pedcyc_Pasngr_Helmet_Use_Cd', 'Pedcyc_Pasngr_Injur_Typ_Cd',\n",
       "       'Pedcyc_Pasngr_Seat_Pos_Typ_Cd', 'Pedcyc_Pasngr_DeathAfter30DaysFlag'],\n",
       "      dtype='object', length=217)"
      ]
     },
     "execution_count": 18,
     "metadata": {},
     "output_type": "execute_result"
    }
   ],
   "source": [
    "data"
   ]
  },
  {
   "cell_type": "code",
   "execution_count": null,
   "metadata": {
    "collapsed": true
   },
   "outputs": [],
   "source": []
  }
 ],
 "metadata": {
  "anaconda-cloud": {},
  "kernelspec": {
   "display_name": "Python [default]",
   "language": "python",
   "name": "python3"
  },
  "language_info": {
   "codemirror_mode": {
    "name": "ipython",
    "version": 3
   },
   "file_extension": ".py",
   "mimetype": "text/x-python",
   "name": "python",
   "nbconvert_exporter": "python",
   "pygments_lexer": "ipython3",
   "version": "3.5.2"
  }
 },
 "nbformat": 4,
 "nbformat_minor": 1
}
